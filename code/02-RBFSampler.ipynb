{
 "cells": [
  {
   "cell_type": "markdown",
   "metadata": {},
   "source": [
    "# RADIAL BASIS FUNCTION SAMPLER, RBFSampler\n",
    "This chapter continues off of 01-SVM and assumes you are familiar with SVMs and kernals.\n",
    "\n",
    "## Kernel approximations\n",
    "\n",
    "While kernels usually can increase models' predictability without sacrificing too much efficiency, this is not always true. For non-linear kernels like RBF the model complexity grows rapidly with the data size and amount, which makes the RBF kernel inadequate for our task.\n",
    "\n",
    "Since our problem is both rich in features and observations we quickly run into long training times. With this, we lose the ability to find the most optimal hyperparameters. Kernal approximations would allow us to train much _much_ quicker, and thus can test a wider range of hyperparameters and combinations. You give up one thing, but gain another.\n",
    "\n",
    "## The RBFSampler\n",
    "\n",
    "Luckily there is a way to approximate the RBF kernel. This is done using random Fourier features. In sklearn this is implemented with a variant of Random Kitchen Sinks and the method is called RBFSampler.\n",
    "\n",
    "The following images shows a single RBF (left) and a single RBFSampler (right). Not very similar!\n",
    "\n",
    "Single RBF             |  Single RBFSampler\n",
    ":-------------------------:|:-------------------------:\n",
    "![](misc/rbf_single.png)  |  ![](misc/rbfsampler_single.png)\n",
    "\n",
    "The beauty comes from combining several kernel/kernel approximations. Here are the same images with 20 combined:\n",
    "\n",
    "20 RBFs combined             |  20 RBFSamplers combined\n",
    ":-------------------------:|:-------------------------:\n",
    "![](misc/rbf_multi.png)  |  ![](misc/rbfsampler_multi.png)\n",
    "\n",
    "\n",
    "This is much closer! Note that these generated are completely randomly generated, so one should just focus on the structural similarities. They can become even more similar after training.\n",
    "\n",
    "\n",
    "## The SGDClassifier\n",
    "\n",
    "Using the RBFSampler in combination with a SGDClassifier we can approximate e.g. RBF-SVM (loss = 'hinge')  and an RBF-LogisticRegression (loss = 'log') very efficiently. There are even more possible losses. They are:\n",
    "\n",
    "* _hinge_ --> linear SVM\n",
    "* _log_ --> logistic regression\n",
    "* _modified huber_ --> a smooth loss that brings tolerance to outliers as well as probability estimates\n",
    "* _squared hinge_ --> like hinge but is quadratically penalized\n",
    "* _perceptron_ --> linear loss used by the perceptron algorithm\n",
    "* **regressions losses:** squared_error, huber, epsilon_insensitive, or squared_epsilon_insensitive\n",
    "\n",
    "\n",
    "## Comment on Parameters\n",
    "The SGDClassifier has three important parameters, _loss_ (discussed above), _penalty_ and _alpha_. The penalty has three options: \n",
    "\n",
    "_\"Defaults to ‘l2’ which is the standard regularizer for linear SVM models. ‘l1’ and ‘elasticnet’ might bring sparsity to the model (feature selection) not achievable with ‘l2’.\"_\n",
    "\n",
    "alpha is a float that is multiplied with the regularization term. The higher the value, the stronger the regularization.\n",
    "\n",
    "Furthermore, for the RBFSampler there are two hyperparameters of interest. _gamma_ and _n-components_ which have an effect on the influence of single data points and how many Monte Carlo samples that are used per original feature.\n",
    "\n",
    "All these parameters needs to be optimized.\n"
   ]
  },
  {
   "cell_type": "markdown",
   "metadata": {},
   "source": [
    "# Preprocessing\n",
    "\n",
    "Before training we need to import an pre-process the data. This is done with our self-developed python packages."
   ]
  },
  {
   "cell_type": "markdown",
   "metadata": {},
   "source": [
    "## Import internal utils\n",
    "\n",
    "First we need to import our internal utils."
   ]
  },
  {
   "cell_type": "code",
   "execution_count": 1,
   "metadata": {},
   "outputs": [],
   "source": [
    "# Import the function that imports and pre-processes data\n",
    "from utils.import_data import importData\n",
    "\n",
    "# Import the class the tests ML-models\n",
    "from utils.model_tester import ModelTester\n",
    "import utils.nicer_plots"
   ]
  },
  {
   "cell_type": "markdown",
   "metadata": {},
   "source": [
    "## Import the data\n",
    "\n",
    "We're now ready to import the data. importData() imports the data from .csv-files and saves it into pandas dataFrames. It also performs a standardScaler, scaling the features one by one so their mean = 0 and std = 1."
   ]
  },
  {
   "cell_type": "code",
   "execution_count": 2,
   "metadata": {},
   "outputs": [
    {
     "name": "stdout",
     "output_type": "stream",
     "text": [
      "Number of samples:    102400\n",
      "Number of features:   3851\n"
     ]
    }
   ],
   "source": [
    "# The name of the files to be imported\n",
    "file_data = \"data2.csv\"\n",
    "file_labels = \"labels2.csv\"\n",
    "\n",
    "# How many of the 3851 features that should be selected (-1 <=> all)\n",
    "n_features = -1\n",
    "\n",
    "# The folder the files lies in\n",
    "directory = \"\\data\\\\\"\n",
    "\n",
    "# Import the data\n",
    "data, labels = importData(file_data, file_labels, directory, n_features, iterations=False)"
   ]
  },
  {
   "cell_type": "markdown",
   "metadata": {},
   "source": [
    "## Defining the model\n",
    "\n",
    "#### [THIS PART IS VERY TECHINCAL AND CAN BE SKIPPED]\n",
    "If you're not interested in how this is implemented, you can jump to **Model exploration**\n",
    "\n",
    "With the data imported, we now need to define a new class, using both the SGDClassifier and the RBFSampler. This will make it possible to tune the parameters for the classifier and the sampler **at the same time**."
   ]
  },
  {
   "cell_type": "code",
   "execution_count": 3,
   "metadata": {},
   "outputs": [],
   "source": [
    "import numpy as np\n",
    "from sklearn.linear_model import SGDClassifier\n",
    "\n",
    "class RBFSamplerSVM():\n",
    "\n",
    "    def __init__(self, penalty = 'l2', loss = 'hinge', tol = 1e-3, alpha = 0.0001, max_iter = 1000, gamma = 1, n_components = 100):\n",
    "        self.SGD = SGDClassifier\n",
    "        self.SGD_parameters = {\n",
    "            'penalty': penalty,\n",
    "            'loss': loss,       # hinge = SVM, log = LogistRegression\n",
    "            'tol': tol,\n",
    "            'alpha':alpha,\n",
    "            'max_iter':max_iter}\n",
    "\n",
    "        self.RBFSampler = RBFSampler\n",
    "        self.RBFSampler_parameters = {\n",
    "            'gamma': gamma,\n",
    "            'n_components': n_components}\n",
    "\n",
    "    def fit(self, x, y):\n",
    "        # Fitting the features and the classifier\n",
    "        # Initializing the RBFSampler\n",
    "        self.rbf_features = self.RBFSampler(**self.RBFSampler_parameters)\n",
    "        # Fitting and transforming the data\n",
    "        x_features = self.rbf_features.fit_transform(x)\n",
    "        # Initializing the SGDClassifier\n",
    "        self.clf = self.SGD(**self.SGD_parameters)\n",
    "        # Fit the data\n",
    "        self.clf.fit(x_features, y)\n",
    "\n",
    "    def predict(self, x):\n",
    "        # Predicting labels\n",
    "        y_pred = self.clf.predict(self.rbf_features.transform(x))\n",
    "        return y_pred\n",
    "\n",
    "    def predict_proba(self, x):\n",
    "        # Predicting label scores\n",
    "        y_scores = self.clf.predict_proba(self.rbf_features.transform(x))\n",
    "        return y_scores"
   ]
  },
  {
   "cell_type": "markdown",
   "metadata": {},
   "source": [
    "### Initializing the ModelTester\n",
    "\n",
    "We're now ready to initialize a ModelTester object. Let's see if it works"
   ]
  },
  {
   "cell_type": "code",
   "execution_count": 4,
   "metadata": {},
   "outputs": [
    {
     "name": "stdout",
     "output_type": "stream",
     "text": [
      "{'gamma': 1, 'alpha': 0.001, 'loss': 'hinge'}\n",
      "SGDClassifier(alpha=0.001)\n",
      "RBFSampler(gamma=1)\n"
     ]
    }
   ],
   "source": [
    "# import model\n",
    "from sklearn.kernel_approximation import RBFSampler\n",
    "\n",
    "# initialize object\n",
    "mt = ModelTester(data, labels, RBFSamplerSVM, gamma = 1, alpha = 0.001, loss = 'hinge') # everything after the model are the hyperparameters\n",
    "\n",
    "# test to see that it was initialized correctly\n",
    "RBFSampler_object = mt.model(**mt.parameters)\n",
    "print(mt.parameters)\n",
    "print(RBFSampler_object.SGD(**RBFSampler_object.SGD_parameters))\n",
    "print(RBFSampler_object.RBFSampler(**RBFSampler_object.RBFSampler_parameters))"
   ]
  },
  {
   "cell_type": "markdown",
   "metadata": {},
   "source": [
    "Seems like it worked!"
   ]
  },
  {
   "cell_type": "markdown",
   "metadata": {},
   "source": [
    "### Custom functions\n",
    "\n",
    "Since the SGD in the class we defined above only can return prediction scores for some losses, we need to create a dummy function that returns a vector of the correct size in some cases. This will render the AUC-score innacurate for incompaitble losses."
   ]
  },
  {
   "cell_type": "code",
   "execution_count": 5,
   "metadata": {},
   "outputs": [],
   "source": [
    "# uses predict_proba when loss is compatible\n",
    "# otherwise returns zeros\n",
    "\n",
    "def custom_predict_proba(self, x, model):\n",
    "    \n",
    "    if model.SGD_parameters['loss'] in ['log', 'modified_huber']:\n",
    "        return model.predict_proba(x)[:, 1]\n",
    "\n",
    "    else:    \n",
    "        return np.zeros(x.shape[0])"
   ]
  },
  {
   "cell_type": "code",
   "execution_count": 6,
   "metadata": {},
   "outputs": [],
   "source": [
    "# set the custom functiomn\n",
    "\n",
    "mt.set_custom_functions(custom_predict_proba = custom_predict_proba)"
   ]
  },
  {
   "cell_type": "markdown",
   "metadata": {},
   "source": [
    "# Model exploration\n",
    "\n",
    "We're now ready to try the model out. We will split it into three sections\n",
    "\n",
    "* A. Linear SVM (_hinge loss_)\n",
    "* B. Logistic Regression (_log loss_)\n",
    "* C. Remaining losses\n",
    "\n",
    "Generally we will test the models by performing hyperparameter tuning (a grid search w. balanced accuracy) on the parameters _alpha_, _gamma_ and _n components_."
   ]
  },
  {
   "cell_type": "markdown",
   "metadata": {},
   "source": [
    "## A. Linear SVM"
   ]
  },
  {
   "cell_type": "markdown",
   "metadata": {},
   "source": [
    "This combination, a RBFSampler and a SGDClassifier with a hinge loss, results in a Linear SVM with an approximated RBF-kernel. Let's run the tests."
   ]
  },
  {
   "cell_type": "code",
   "execution_count": 7,
   "metadata": {},
   "outputs": [
    {
     "name": "stderr",
     "output_type": "stream",
     "text": [
      "100%|██████████| 100/100 [18:04<00:00, 10.85s/it]"
     ]
    },
    {
     "name": "stdout",
     "output_type": "stream",
     "text": [
      "\n",
      "   Ranking  loss      alpha    gamma    n_components    balanced_accuracy    Standard deviation\n",
      "---------  ------  -------  -------  --------------  -------------------  --------------------\n",
      "        1  hinge     1e-05   0.001             1000             0.500277           0.000559173\n",
      "        2  hinge     1e-05   0.01              1000             0.500049           0.000486579\n",
      "        3  hinge     1e-05   0.0001             100             0.5                0\n",
      "        4  hinge     0.01    0.1                100             0.5                0\n",
      "        5  hinge     0.01    0.01              1000             0.5                0\n",
      "        6  hinge     0.01    0.01               500             0.5                0\n",
      "        7  hinge     0.01    0.01               200             0.5                0\n",
      "        8  hinge     0.01    0.01               100             0.5                0\n",
      "        9  hinge     0.01    0.001             1000             0.5                0\n",
      "       10  hinge     0.01    0.001              500             0.5                0\n"
     ]
    },
    {
     "name": "stderr",
     "output_type": "stream",
     "text": [
      "\n"
     ]
    },
    {
     "data": {
      "text/plain": [
       "{'loss': 'hinge', 'alpha': 1e-05, 'gamma': 0.001, 'n_components': 1000}"
      ]
     },
     "execution_count": 7,
     "metadata": {},
     "output_type": "execute_result"
    }
   ],
   "source": [
    "# Model parameters\n",
    "sampling = 'under'\n",
    "\n",
    "# parameters that will be tested\n",
    "parameters = {\n",
    "            'loss':['hinge'],\n",
    "            'alpha':[0.00001, 0.0001, 0.001, 0.01, 0.1],\n",
    "            'gamma': [0.0001, 0.001, 0.01, 0.1, 1],\n",
    "            'n_components': [100, 200, 500, 1000]\n",
    "        }\n",
    "\n",
    "# Run the grid search\n",
    "mt.hyperparameter_tuning(n_train = 8, n_test = 2, n_epochs = 10, sampling = sampling, **parameters)"
   ]
  },
  {
   "cell_type": "markdown",
   "metadata": {},
   "source": [
    "Seems like a small alpha and many components is the way to go! However, the difference in accuracy is very small.\n",
    "\n",
    "We also notice that gamma doesn't seem to have an impact."
   ]
  },
  {
   "cell_type": "code",
   "execution_count": 8,
   "metadata": {},
   "outputs": [
    {
     "name": "stderr",
     "output_type": "stream",
     "text": [
      "100%|██████████| 40/40 [17:54<00:00, 26.87s/it]"
     ]
    },
    {
     "name": "stdout",
     "output_type": "stream",
     "text": [
      "\n",
      "   Ranking  loss          alpha       gamma    n_components    balanced_accuracy    Standard deviation\n",
      "---------  ------  -----------  ----------  --------------  -------------------  --------------------\n",
      "        1  hinge   1e-06        0.0001                1000             0.507307            0.00911669\n",
      "        2  hinge   1e-06        0.00215443            2000             0.50546             0.00773076\n",
      "        3  hinge   1e-06        0.00215443            1000             0.504407            0.00701944\n",
      "        4  hinge   3.16228e-06  0.0001                2000             0.503774            0.0125961\n",
      "        5  hinge   1e-06        1                     2000             0.503414            0.0135229\n",
      "        6  hinge   1e-05        0.00215443            2000             0.502183            0.00720444\n",
      "        7  hinge   1e-06        0.0001                2000             0.501865            0.0119864\n",
      "        8  hinge   1e-05        0.0001                1000             0.501355            0.00134774\n",
      "        9  hinge   3.16228e-05  1                     2000             0.501202            0.00294975\n",
      "       10  hinge   3.16228e-06  0.00215443            1000             0.500962            0.0037182\n"
     ]
    },
    {
     "name": "stderr",
     "output_type": "stream",
     "text": [
      "\n"
     ]
    },
    {
     "data": {
      "text/plain": [
       "{'loss': 'hinge', 'alpha': 1e-06, 'gamma': 0.0001, 'n_components': 1000}"
      ]
     },
     "execution_count": 8,
     "metadata": {},
     "output_type": "execute_result"
    }
   ],
   "source": [
    "# Model parameters\n",
    "sampling = 'under'\n",
    "\n",
    "# parameters that will be tested\n",
    "parameters = {\n",
    "            'loss':['hinge'],\n",
    "            'alpha':10 ** np.linspace(-6, -4, 5),\n",
    "            'gamma': 10 ** np.linspace(-4, 0, 4),\n",
    "            'n_components': [1000, 2000]\n",
    "        }\n",
    "\n",
    "# Run the grid search\n",
    "mt.hyperparameter_tuning(n_train = 8, n_test = 2, n_epochs = 10, sampling = sampling, **parameters)"
   ]
  },
  {
   "cell_type": "markdown",
   "metadata": {},
   "source": [
    "Once again, more components and lower alpha seems to be best. Note that we also get higher accuracies!"
   ]
  },
  {
   "cell_type": "code",
   "execution_count": 9,
   "metadata": {},
   "outputs": [
    {
     "name": "stderr",
     "output_type": "stream",
     "text": [
      "100%|██████████| 2/2 [01:44<00:00, 52.50s/it]"
     ]
    },
    {
     "name": "stdout",
     "output_type": "stream",
     "text": [
      "\n",
      "   Ranking  loss      alpha    gamma    n_components    balanced_accuracy    Standard deviation\n",
      "---------  ------  -------  -------  --------------  -------------------  --------------------\n",
      "        1  hinge     1e-06   0.0001            3851             0.506164            0.0143258\n",
      "        2  hinge     1e-06   0.0001            2000             0.496597            0.00631033\n"
     ]
    },
    {
     "name": "stderr",
     "output_type": "stream",
     "text": [
      "\n"
     ]
    },
    {
     "data": {
      "text/plain": [
       "{'loss': 'hinge', 'alpha': 1e-06, 'gamma': 0.0001, 'n_components': 3851}"
      ]
     },
     "execution_count": 9,
     "metadata": {},
     "output_type": "execute_result"
    }
   ],
   "source": [
    "# Model parameters\n",
    "sampling = 'under'\n",
    "\n",
    "# parameters that will be tested\n",
    "parameters = {\n",
    "            'loss':['hinge'],\n",
    "            'alpha': [10 ** (-6)],\n",
    "            'gamma': [10 ** (-4)],\n",
    "            'n_components': [2000, 3851]}\n",
    "\n",
    "# Run the grid search\n",
    "mt.hyperparameter_tuning(n_train = 8, n_test = 2, n_epochs = 10, sampling = sampling, **parameters)"
   ]
  },
  {
   "cell_type": "markdown",
   "metadata": {},
   "source": [
    "Let's quickly try with different penalties. _l1_ and _elasticnet_ should allow for some feature selection."
   ]
  },
  {
   "cell_type": "code",
   "execution_count": 10,
   "metadata": {},
   "outputs": [
    {
     "name": "stderr",
     "output_type": "stream",
     "text": [
      "100%|██████████| 3/3 [03:40<00:00, 73.53s/it]"
     ]
    },
    {
     "name": "stdout",
     "output_type": "stream",
     "text": [
      "\n",
      "   Ranking  loss    penalty       alpha    gamma    n_components    balanced_accuracy    Standard deviation\n",
      "---------  ------  ----------  -------  -------  --------------  -------------------  --------------------\n",
      "        1  hinge   l1            1e-06   0.0001            2000             0.507756             0.0184226\n",
      "        2  hinge   elasticnet    1e-06   0.0001            2000             0.504637             0.0116574\n",
      "        3  hinge   l2            1e-06   0.0001            2000             0.50298              0.0100108\n"
     ]
    },
    {
     "name": "stderr",
     "output_type": "stream",
     "text": [
      "\n"
     ]
    },
    {
     "data": {
      "text/plain": [
       "{'loss': 'hinge',\n",
       " 'penalty': 'l1',\n",
       " 'alpha': 1e-06,\n",
       " 'gamma': 0.0001,\n",
       " 'n_components': 2000}"
      ]
     },
     "execution_count": 10,
     "metadata": {},
     "output_type": "execute_result"
    }
   ],
   "source": [
    "# Model parameters\n",
    "sampling = 'under'\n",
    "\n",
    "# parameters that will be tested\n",
    "parameters = {\n",
    "            'loss':['hinge'],\n",
    "            'penalty':['l2', 'l1', 'elasticnet'],\n",
    "            'alpha':[1e-6],\n",
    "            'gamma':[0.0001],\n",
    "            'n_components': [2000]\n",
    "        }\n",
    "\n",
    "# Run the grid search\n",
    "mt.hyperparameter_tuning(n_train = 8, n_test = 2, n_epochs = 10, sampling = sampling, **parameters)"
   ]
  },
  {
   "cell_type": "markdown",
   "metadata": {},
   "source": [
    "The _l2_ penalty still gives the best performance."
   ]
  },
  {
   "cell_type": "markdown",
   "metadata": {},
   "source": [
    "## B. Logistic Regression \n",
    "\n",
    "This combination, a RBFSampler and a SGDClassifier with a log loss, results in a Logistic Regression with an approximated RBF-kernel. Let's run the tests.\n",
    "\n",
    "**OBS** we should learn from the testing for the SVM and start with promising hyperparameter values."
   ]
  },
  {
   "cell_type": "code",
   "execution_count": 11,
   "metadata": {},
   "outputs": [
    {
     "name": "stderr",
     "output_type": "stream",
     "text": [
      "100%|██████████| 40/40 [43:14<00:00, 64.85s/it]"
     ]
    },
    {
     "name": "stdout",
     "output_type": "stream",
     "text": [
      "\n",
      "   Ranking  loss          alpha       gamma    n_components    balanced_accuracy    Standard deviation\n",
      "---------  ------  -----------  ----------  --------------  -------------------  --------------------\n",
      "        1  log     3.16228e-06  0.0001                1000             0.507859            0.00809433\n",
      "        2  log     1e-05        1                     2000             0.503515            0.0039293\n",
      "        3  log     1e-05        0.0001                1000             0.502725            0.00792196\n",
      "        4  log     1e-06        0.0001                2000             0.502549            0.0143432\n",
      "        5  log     3.16228e-06  0.0001                2000             0.502496            0.00940477\n",
      "        6  log     3.16228e-05  0.0001                2000             0.502401            0.00653801\n",
      "        7  log     1e-05        0.0464159             2000             0.502291            0.00720504\n",
      "        8  log     3.16228e-05  0.0001                1000             0.501382            0.00645673\n",
      "        9  log     3.16228e-06  0.00215443            2000             0.500791            0.00943117\n",
      "       10  log     1e-05        1                     1000             0.500782            0.00570413\n"
     ]
    },
    {
     "name": "stderr",
     "output_type": "stream",
     "text": [
      "\n"
     ]
    },
    {
     "data": {
      "text/plain": [
       "{'loss': 'log',\n",
       " 'alpha': 3.162277660168379e-06,\n",
       " 'gamma': 0.0001,\n",
       " 'n_components': 1000}"
      ]
     },
     "execution_count": 11,
     "metadata": {},
     "output_type": "execute_result"
    }
   ],
   "source": [
    "# Model parameters\n",
    "sampling = 'under'\n",
    "\n",
    "# parameters that will be tested\n",
    "parameters = {\n",
    "            'loss':['log'],\n",
    "            'alpha':10 ** np.linspace(-6, -4, 5),\n",
    "            'gamma': 10 ** np.linspace(-4, 0, 4),\n",
    "            'n_components': [1000, 2000]}\n",
    "\n",
    "# Run the grid search\n",
    "mt.hyperparameter_tuning(n_train = 8, n_test = 2, n_epochs = 10, sampling = sampling, **parameters)"
   ]
  },
  {
   "cell_type": "markdown",
   "metadata": {},
   "source": [
    "_alpha_ around 1e-6 and _gamma_ = 0.0001 seems to give the best results. Let's try again!"
   ]
  },
  {
   "cell_type": "code",
   "execution_count": 12,
   "metadata": {},
   "outputs": [
    {
     "name": "stderr",
     "output_type": "stream",
     "text": [
      "100%|██████████| 6/6 [10:13<00:00, 102.30s/it]"
     ]
    },
    {
     "name": "stdout",
     "output_type": "stream",
     "text": [
      "\n",
      "   Ranking  loss          alpha    gamma    n_components    balanced_accuracy    Standard deviation\n",
      "---------  ------  -----------  -------  --------------  -------------------  --------------------\n",
      "        1  log     3.16228e-07   0.0001            2000             0.511118            0.012818\n",
      "        2  log     1e-06         0.0001            3851             0.507257            0.0141885\n",
      "        3  log     3.16228e-06   0.0001            2000             0.505412            0.0195098\n",
      "        4  log     1e-06         0.0001            2000             0.503868            0.0141274\n",
      "        5  log     3.16228e-06   0.0001            3851             0.503196            0.00619448\n",
      "        6  log     3.16228e-07   0.0001            3851             0.502053            0.0150338\n"
     ]
    },
    {
     "name": "stderr",
     "output_type": "stream",
     "text": [
      "\n"
     ]
    },
    {
     "data": {
      "text/plain": [
       "{'loss': 'log',\n",
       " 'alpha': 3.162277660168379e-07,\n",
       " 'gamma': 0.0001,\n",
       " 'n_components': 2000}"
      ]
     },
     "execution_count": 12,
     "metadata": {},
     "output_type": "execute_result"
    }
   ],
   "source": [
    "# Model parameters\n",
    "sampling = 'under'\n",
    "\n",
    "# parameters that will be tested\n",
    "parameters = {\n",
    "            'loss':['log'],\n",
    "            'alpha':10 ** np.linspace(-6.5, -5.5, 3),\n",
    "            'gamma': [0.0001],\n",
    "            'n_components': [2000, 3851]} # Not more than the number of features\n",
    "\n",
    "# Run the grid search\n",
    "mt.hyperparameter_tuning(n_train = 8, n_test = 2, n_epochs = 10, sampling = sampling, **parameters)"
   ]
  },
  {
   "cell_type": "markdown",
   "metadata": {},
   "source": [
    "## C. Remaining losses\n",
    "\n",
    "We will now explore the remaining losses with RBFSampler."
   ]
  },
  {
   "cell_type": "code",
   "execution_count": 13,
   "metadata": {},
   "outputs": [
    {
     "name": "stderr",
     "output_type": "stream",
     "text": [
      " 44%|████▍     | 8/18 [09:13<11:34, 69.49s/it]C:\\Users\\augus\\AppData\\Local\\Programs\\Python\\Python39\\lib\\site-packages\\sklearn\\linear_model\\_stochastic_gradient.py:574: ConvergenceWarning: Maximum number of iteration reached before convergence. Consider increasing max_iter to improve the fit.\n",
      "  warnings.warn(\"Maximum number of iteration reached before \"\n",
      "C:\\Users\\augus\\AppData\\Local\\Programs\\Python\\Python39\\lib\\site-packages\\sklearn\\linear_model\\_stochastic_gradient.py:574: ConvergenceWarning: Maximum number of iteration reached before convergence. Consider increasing max_iter to improve the fit.\n",
      "  warnings.warn(\"Maximum number of iteration reached before \"\n",
      "C:\\Users\\augus\\AppData\\Local\\Programs\\Python\\Python39\\lib\\site-packages\\sklearn\\linear_model\\_stochastic_gradient.py:574: ConvergenceWarning: Maximum number of iteration reached before convergence. Consider increasing max_iter to improve the fit.\n",
      "  warnings.warn(\"Maximum number of iteration reached before \"\n",
      "C:\\Users\\augus\\AppData\\Local\\Programs\\Python\\Python39\\lib\\site-packages\\sklearn\\linear_model\\_stochastic_gradient.py:574: ConvergenceWarning: Maximum number of iteration reached before convergence. Consider increasing max_iter to improve the fit.\n",
      "  warnings.warn(\"Maximum number of iteration reached before \"\n",
      " 56%|█████▌    | 10/18 [12:49<11:27, 85.91s/it]C:\\Users\\augus\\AppData\\Local\\Programs\\Python\\Python39\\lib\\site-packages\\sklearn\\linear_model\\_stochastic_gradient.py:574: ConvergenceWarning: Maximum number of iteration reached before convergence. Consider increasing max_iter to improve the fit.\n",
      "  warnings.warn(\"Maximum number of iteration reached before \"\n",
      "C:\\Users\\augus\\AppData\\Local\\Programs\\Python\\Python39\\lib\\site-packages\\sklearn\\linear_model\\_stochastic_gradient.py:574: ConvergenceWarning: Maximum number of iteration reached before convergence. Consider increasing max_iter to improve the fit.\n",
      "  warnings.warn(\"Maximum number of iteration reached before \"\n",
      "C:\\Users\\augus\\AppData\\Local\\Programs\\Python\\Python39\\lib\\site-packages\\sklearn\\linear_model\\_stochastic_gradient.py:574: ConvergenceWarning: Maximum number of iteration reached before convergence. Consider increasing max_iter to improve the fit.\n",
      "  warnings.warn(\"Maximum number of iteration reached before \"\n",
      "C:\\Users\\augus\\AppData\\Local\\Programs\\Python\\Python39\\lib\\site-packages\\sklearn\\linear_model\\_stochastic_gradient.py:574: ConvergenceWarning: Maximum number of iteration reached before convergence. Consider increasing max_iter to improve the fit.\n",
      "  warnings.warn(\"Maximum number of iteration reached before \"\n",
      "C:\\Users\\augus\\AppData\\Local\\Programs\\Python\\Python39\\lib\\site-packages\\sklearn\\linear_model\\_stochastic_gradient.py:574: ConvergenceWarning: Maximum number of iteration reached before convergence. Consider increasing max_iter to improve the fit.\n",
      "  warnings.warn(\"Maximum number of iteration reached before \"\n",
      "C:\\Users\\augus\\AppData\\Local\\Programs\\Python\\Python39\\lib\\site-packages\\sklearn\\linear_model\\_stochastic_gradient.py:574: ConvergenceWarning: Maximum number of iteration reached before convergence. Consider increasing max_iter to improve the fit.\n",
      "  warnings.warn(\"Maximum number of iteration reached before \"\n",
      "C:\\Users\\augus\\AppData\\Local\\Programs\\Python\\Python39\\lib\\site-packages\\sklearn\\linear_model\\_stochastic_gradient.py:574: ConvergenceWarning: Maximum number of iteration reached before convergence. Consider increasing max_iter to improve the fit.\n",
      "  warnings.warn(\"Maximum number of iteration reached before \"\n",
      "C:\\Users\\augus\\AppData\\Local\\Programs\\Python\\Python39\\lib\\site-packages\\sklearn\\linear_model\\_stochastic_gradient.py:574: ConvergenceWarning: Maximum number of iteration reached before convergence. Consider increasing max_iter to improve the fit.\n",
      "  warnings.warn(\"Maximum number of iteration reached before \"\n",
      "100%|██████████| 18/18 [21:38<00:00, 72.12s/it]"
     ]
    },
    {
     "name": "stdout",
     "output_type": "stream",
     "text": [
      "\n",
      "   Ranking  loss                  alpha    gamma    n_components    balanced_accuracy    Standard deviation\n",
      "---------  --------------  -----------  -------  --------------  -------------------  --------------------\n",
      "        1  squared_hinge   1e-06         0.0001            2000             0.513446            0.0174095\n",
      "        2  modified_huber  3.16228e-07   0.0001            3851             0.511259            0.0145615\n",
      "        3  perceptron      3.16228e-07   0.0001            2000             0.510239            0.0142158\n",
      "        4  modified_huber  3.16228e-06   0.0001            3851             0.509832            0.0124729\n",
      "        5  squared_hinge   3.16228e-07   0.0001            3851             0.509698            0.0150538\n",
      "        6  perceptron      1e-06         0.0001            3851             0.507796            0.0159114\n",
      "        7  squared_hinge   3.16228e-07   0.0001            2000             0.505744            0.00862562\n",
      "        8  squared_hinge   3.16228e-06   0.0001            3851             0.505649            0.0159098\n",
      "        9  squared_hinge   3.16228e-06   0.0001            2000             0.505421            0.00901171\n",
      "       10  modified_huber  1e-06         0.0001            3851             0.504509            0.0100139\n"
     ]
    },
    {
     "name": "stderr",
     "output_type": "stream",
     "text": [
      "\n"
     ]
    },
    {
     "data": {
      "text/plain": [
       "{'loss': 'squared_hinge',\n",
       " 'alpha': 1e-06,\n",
       " 'gamma': 0.0001,\n",
       " 'n_components': 2000}"
      ]
     },
     "execution_count": 13,
     "metadata": {},
     "output_type": "execute_result"
    }
   ],
   "source": [
    "# Model parameters\n",
    "sampling = 'under'\n",
    "\n",
    "# parameters that will be tested\n",
    "parameters = {\n",
    "            'loss':['modified_huber', 'squared_hinge', 'perceptron'],\n",
    "            'alpha':10 ** np.linspace(-6.5, -5.5, 3),\n",
    "            'gamma': [0.0001],\n",
    "            'n_components': [2000, 3851]}\n",
    "\n",
    "# Run the grid search\n",
    "mt.hyperparameter_tuning(n_train = 8, n_test = 2, n_epochs = 10, sampling = sampling, **parameters)"
   ]
  },
  {
   "cell_type": "markdown",
   "metadata": {},
   "source": [
    "# Results\n",
    "\n",
    "We'll now re-run the tests for the best combination of every section (three models) to get more results. The combinations are:\n",
    "1. loss : hinge | alpha : 1e-06 | gamma : 0.0001 | n_components : 1000\n",
    "2. loss : log | alpha : 3.16228e-07 | gamma : 0.0001 | n_components : 2000\n",
    "3. loss : squared_hinge | alpha : 1e-06 | gamma : 0.0001 | n_components : 2000"
   ]
  },
  {
   "cell_type": "markdown",
   "metadata": {},
   "source": [
    "### SVM (hinge)"
   ]
  },
  {
   "cell_type": "code",
   "execution_count": 15,
   "metadata": {},
   "outputs": [],
   "source": [
    "# set the best parameters\n",
    "mt.parameters = {\n",
    "            'loss':'hinge',\n",
    "            'penalty':'l2',\n",
    "            'alpha':1e-6,\n",
    "            'gamma':0.0001,\n",
    "            'n_components':1000}\n",
    "\n",
    "# re-train\n",
    "sampling = 'under' # can be 'under', 'over' or nothing\n",
    "\n",
    "# run the training loop\n",
    "mt.training_loop(sampling = sampling)"
   ]
  },
  {
   "cell_type": "code",
   "execution_count": 16,
   "metadata": {},
   "outputs": [
    {
     "name": "stdout",
     "output_type": "stream",
     "text": [
      "Results: \n",
      "\n",
      "variable                             average    std  95.0% CI          min    max\n",
      "---------------------------------  ---------  -----  --------------  -----  -----\n",
      "weighted accuracy [%]                  50.35   0.98  (49.65, 51.05)  49.31  52.66\n",
      "duration [s]                            1.86   0.25  (1.68, 2.04)     1.49   2.3\n",
      "infeasible_percentage [%]              82.56   2.4   (80.85, 84.28)  77.25  85.45\n",
      "infeasible_guessed_percentage [%]      82.42  16.73  (70.45, 94.39)  51.56  99.32\n",
      "feasible_recall [%]                    18.17  17.11  (5.93, 30.42)    0.88  49.72\n",
      "feasible_precision [%]                 17.48   3.83  (14.74, 20.22)   9.38  22.25\n",
      "infeasible_recall [%]                  82.52  16.69  (70.58, 94.46)  51.83  99.36\n",
      "infeasible_precision [%]               82.68   2.62  (80.8, 84.55)   76.79  85.84\n",
      "auc of roc                              0.5    0     (0.5, 0.5)       0.5    0.5\n"
     ]
    }
   ],
   "source": [
    "mt.print_essentials()"
   ]
  },
  {
   "cell_type": "markdown",
   "metadata": {},
   "source": [
    "We notice that the model averages above 50%, but there is a significant risk of it also getting accuracies under 50%.\n",
    "\n",
    "We also notice that the model doesn't only guess one of the labels, it's closer to 60/40.\n",
    "\n",
    "The fitting + prediction time is also quite fast! Around 3 seconds."
   ]
  },
  {
   "cell_type": "markdown",
   "metadata": {},
   "source": [
    "### Logistic regression (log)"
   ]
  },
  {
   "cell_type": "code",
   "execution_count": 17,
   "metadata": {},
   "outputs": [],
   "source": [
    "# set the best parameters\n",
    "mt.parameters = {\n",
    "            'loss':'log',\n",
    "            'penalty':'l2',\n",
    "            'alpha':3.16228e-07,\n",
    "            'gamma':0.0001,\n",
    "            'n_components':2000}\n",
    "\n",
    "# re-train\n",
    "sampling = 'under' # can be 'under', 'over' or nothing\n",
    "\n",
    "# run the training loop\n",
    "mt.training_loop(sampling = sampling)"
   ]
  },
  {
   "cell_type": "code",
   "execution_count": 18,
   "metadata": {},
   "outputs": [
    {
     "name": "stdout",
     "output_type": "stream",
     "text": [
      "Results: \n",
      "\n",
      "variable                             average    std  95.0% CI          min    max\n",
      "---------------------------------  ---------  -----  --------------  -----  -----\n",
      "weighted accuracy [%]                  50.53   0.76  (49.98, 51.07)  49.2   52.09\n",
      "duration [s]                            4.88   0.72  (4.36, 5.39)     3.77   6.16\n",
      "infeasible_percentage [%]              82.56   2.4   (80.85, 84.28)  77.25  85.45\n",
      "infeasible_guessed_percentage [%]      63.59  22.17  (47.73, 79.45)  20.8   93.7\n",
      "feasible_recall [%]                    37.29  22.47  (21.22, 53.37)   6.76  82.6\n",
      "feasible_precision [%]                 18.09   2.41  (16.37, 19.81)  15.97  24.29\n",
      "infeasible_recall [%]                  63.76  22.1   (47.95, 79.57)  21.59  93.79\n",
      "infeasible_precision [%]               82.97   2.54  (81.15, 84.79)  77.36  85.77\n",
      "auc of roc                              0.5    0.01  (0.49, 0.51)     0.46   0.51\n"
     ]
    }
   ],
   "source": [
    "mt.print_essentials()"
   ]
  },
  {
   "cell_type": "markdown",
   "metadata": {},
   "source": [
    "We notice that the model averages above 50%, but there is a significant risk of it also getting accuracies under 50%. The average is also lower than the SVM's average.\n",
    "\n",
    "Like the SVM, its infeasible/feasible guess is close to 60/40.\n",
    "\n",
    "The fitting + prediction time is a bit slower, around 7 seconds."
   ]
  },
  {
   "cell_type": "markdown",
   "metadata": {},
   "source": [
    "### Squared hinge"
   ]
  },
  {
   "cell_type": "code",
   "execution_count": 34,
   "metadata": {},
   "outputs": [],
   "source": [
    "# set the best parameters\n",
    "mt.parameters = {\n",
    "            'loss':'squared_hinge',\n",
    "            'penalty':'l2',\n",
    "            'alpha':6.16228e-06,\n",
    "            'gamma':0.0001,\n",
    "            'n_components':3851}\n",
    "\n",
    "# re-train\n",
    "sampling = 'under' # can be 'under', 'over' or nothing\n",
    "\n",
    "# run the training loop\n",
    "mt.training_loop(sampling = sampling)"
   ]
  },
  {
   "cell_type": "code",
   "execution_count": 35,
   "metadata": {},
   "outputs": [
    {
     "name": "stdout",
     "output_type": "stream",
     "text": [
      "Results: \n",
      "\n",
      "variable                             average    std  95.0% CI          min    max\n",
      "---------------------------------  ---------  -----  --------------  -----  -----\n",
      "weighted accuracy [%]                  51.25   1.32  (50.3, 52.2)    49.01  53.18\n",
      "duration [s]                            3.74   0.81  (3.16, 4.32)     3.21   6.04\n",
      "infeasible_percentage [%]              82.56   2.4   (80.85, 84.28)  77.25  85.45\n",
      "infeasible_guessed_percentage [%]      62.89  12.49  (53.95, 71.82)  45.61  84.33\n",
      "feasible_recall [%]                    39.19  13.93  (29.23, 49.16)  17.24  59.44\n",
      "feasible_precision [%]                 18.25   2.17  (16.7, 19.8)    14.72  21.2\n",
      "infeasible_recall [%]                  63.31  12.19  (54.59, 72.03)  46.55  84.62\n",
      "infeasible_precision [%]               83.23   2.57  (81.39, 85.06)  76.8   86.07\n",
      "auc of roc                              0.5    0     (0.5, 0.5)       0.5    0.5\n"
     ]
    }
   ],
   "source": [
    "mt.print_essentials()"
   ]
  },
  {
   "cell_type": "markdown",
   "metadata": {},
   "source": [
    "We notice that the model averages above 51%. The risk of getting accuracies under 50% seems quite low, as indicated by the CI. The accuracy is the best so far!\n",
    "\n",
    "Like the other models, its infeasible/feasible guess is close to 60/40.\n",
    "\n",
    "The fitting + prediction time is a bit slow, around 7 seconds."
   ]
  },
  {
   "cell_type": "markdown",
   "metadata": {},
   "source": [
    "### Graphs\n",
    "\n",
    "Let's now have a look at some graphs of the best model. We do not print the AUC since the model can't return probability scores."
   ]
  },
  {
   "cell_type": "code",
   "execution_count": 36,
   "metadata": {},
   "outputs": [
    {
     "name": "stdout",
     "output_type": "stream",
     "text": [
      "Weighted accuracies:\n"
     ]
    },
    {
     "data": {
      "image/png": "[encoded data removed]",
      "text/plain": [
       "<Figure size 450x300 with 1 Axes>"
      ]
     },
     "metadata": {
      "needs_background": "light"
     },
     "output_type": "display_data"
    },
    {
     "name": "stdout",
     "output_type": "stream",
     "text": [
      "Test accuracies: [0.51250778 0.51122869 0.50516388]\n",
      "Confusion matrices:\n"
     ]
    },
    {
     "data": {
      "image/png": "[encoded data removed]",
      "text/plain": [
       "<Figure size 1050x900 with 4 Axes>"
      ]
     },
     "metadata": {
      "needs_background": "light"
     },
     "output_type": "display_data"
    },
    {
     "name": "stdout",
     "output_type": "stream",
     "text": [
      "Percentage infeasible on test and train data:\n"
     ]
    },
    {
     "data": {
      "image/png": "[encoded data removed]",
      "text/plain": [
       "<Figure size 1050x337.5 with 2 Axes>"
      ]
     },
     "metadata": {
      "needs_background": "light"
     },
     "output_type": "display_data"
    }
   ],
   "source": [
    "mt.plot_graphs(AUC = False)"
   ]
  },
  {
   "cell_type": "markdown",
   "metadata": {},
   "source": [
    "# Conclusions\n",
    "\n",
    "After some hyperparameter tuning we're able to achieve an average balanced accuracy of almost 52%. While this is better than some of our other models, it's not enough to warrant usage of the model. And we should remember, with all the hyperparameter tuning we do there is a chance that the 2 percentage points above random guessing is due to overfitting.\n",
    "\n",
    "squared_hinge 51.3% > log (logistic regression) 50.5% > hinge (SVM) 50.4% "
   ]
  }
 ],
 "metadata": {
  "interpreter": {
   "hash": "9386f0cef3f7e847ba4ef8cad0c29e3ff984e6eb5154ed6dc75c3de9b359a7f7"
  },
  "kernelspec": {
   "display_name": "Python 3",
   "language": "python",
   "name": "python3"
  },
  "language_info": {
   "codemirror_mode": {
    "name": "ipython",
    "version": 3
   },
   "file_extension": ".py",
   "mimetype": "text/x-python",
   "name": "python",
   "nbconvert_exporter": "python",
   "pygments_lexer": "ipython3",
   "version": "3.9.6"
  }
 },
 "nbformat": 4,
 "nbformat_minor": 4
}
