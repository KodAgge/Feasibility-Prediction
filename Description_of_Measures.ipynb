{
 "cells": [
  {
   "cell_type": "markdown",
   "metadata": {},
   "source": [
    "# DESCRIPTION OF MEASURES"
   ]
  },
  {
   "cell_type": "markdown",
   "metadata": {},
   "source": [
    "The evaluation of each model and algorithm is based upon the following measures:\n",
    "1. Weighted accurracy\n",
    "2. Recall\n",
    "3. Precision\n",
    "4. AUC\n",
    "\n",
    "Since we have a binary classification problem, we each both recall and precision will be shown with two charts. One for the feasible and one for the infeasible classifications.\n",
    "\n",
    "<div>\n",
    "    <img src=\"misc/example-chart.jpg\" width=\"600\"/>\n",
    "</div>\n",
    "Also, note that $n$ is through the text used to describe number of datapoints and $n_{feas}$ and $n_{infeas}$ is the number of each class respectively. \n",
    "\n",
    "\n"
   ]
  },
  {
   "cell_type": "markdown",
   "metadata": {},
   "source": [
    "# 1. Weighted accurracy\n",
    "This measure determines how good the algorithm is at clasifying points in the data-set. Under normal circumstances, plain and simple accuracy (i.e. number of points correctly classified/number of points) can be used. However, due to the unbalanced nature of the dataset with there being ~4x more infeasible points than feasible, a model can achieve an accuracy of ~75% simply by guessing that every point is infeasible. Thereby, it makes more sense weigh the feasible datapoints higher in the accuracy-metrics to give a fair representation of the models performance. Under this new metric, a model that guesses randomly will thereby be given a score of 50% in accurracy. \n",
    "\n",
    "<div>\n",
    "    <img src=\"misc/weighted_accuracy.png\" width=\"600\"/>\n",
    "</div>\n",
    "\n",
    "# 2. Recall\n",
    "Defined as: $ \\frac{n_{corr. feas.}}{n_{tot. feas.}} $\n",
    "\n",
    "Recall is defined as the ratio between points correctly classified and total number of points with that label. A value close to 1 indicates that the algorithm yields a very low share of false negatives and do not miss any points for a class.\n",
    "\n",
    "<div>\n",
    "    <img src=\"misc/feas_recall.PNG\" width=\"600\"/>\n",
    "</div>\n",
    "\n",
    "# 3. Precision\n",
    "Defined as: $ \\frac{n_{corr. feas.}}{n_{feas. guess}} $\n",
    "\n",
    "Precision is defined as the ratio between the number of correctly classified points of a class and the total amount of points guessed for that same class. A value close to 1 indicates that a point classified as feasible can with high reliability be seen as feasible.\n",
    "\n",
    "<div>\n",
    "    <img src=\"misc/feas_precision.PNG\" width=\"600\"/>\n",
    "</div>\n",
    "\n",
    "\n",
    "# 4. AUC\n",
    "AUC - ROC curve is a performance measurement for the classification problems at various threshold settings. ROC is a probability curve and AUC represents the degree or measure of separability. It tells how much the model is capable of distinguishing between classes. Higher the AUC, the better the model is at predicting 0 classes as 0 and 1 classes as 1. By analogy, the Higher the AUC, the better the model is at distinguishing between feasible and infeasible points.\n",
    "\n",
    "<div>\n",
    "    <img src=\"misc/auc.PNG\" width=\"600\"/>\n",
    "</div>\n",
    "\n",
    "It's important to note that not all ML model will yield probabilities estimates to the predictions, thus making AUC not viable as a metric for some models. In those cases, we looked at weighted accuracy instead. The two are very close related."
   ]
  }
 ],
 "metadata": {
  "interpreter": {
   "hash": "9386f0cef3f7e847ba4ef8cad0c29e3ff984e6eb5154ed6dc75c3de9b359a7f7"
  },
  "kernelspec": {
   "display_name": "Python 3",
   "language": "python",
   "name": "python3"
  },
  "language_info": {
   "codemirror_mode": {
    "name": "ipython",
    "version": 3
   },
   "file_extension": ".py",
   "mimetype": "text/x-python",
   "name": "python",
   "nbconvert_exporter": "python",
   "pygments_lexer": "ipython3",
   "version": "3.8.5"
  }
 },
 "nbformat": 4,
 "nbformat_minor": 4
}
