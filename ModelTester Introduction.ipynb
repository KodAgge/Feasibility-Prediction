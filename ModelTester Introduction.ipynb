{
 "cells": [
  {
   "cell_type": "markdown",
   "metadata": {},
   "source": [
    "# MODEL TESTER\n",
    "\n",
    "Our self-written library model_tester can be used to train, tune and evaluate models in a standardized way.\n",
    "\n",
    "## Training\n",
    "\n",
    "Training is done with the method .trainin_loop().\n",
    "\n",
    "It trains the model 10 times in order to get good averages and confidence intervals. \n",
    "* Training data is from 8 (default) consecutive optimization iterations\n",
    "* Test data is from 2 (default) consecutive optimization iterations with lags [0, 1, 2] from the training data\n",
    "* Under- or oversampling (choice) is done to combat the imbalanced dataset\n",
    "\n",
    "After the training is done, the model can be evaluated.\n",
    "\n",
    "## Evaluation\n",
    "\n",
    "The trained model can be evaluated with several metrics:\n",
    "1. Balanced accuracy\n",
    "2. Training + prediction duration\n",
    "3. Percentage infeasible guessed vs actual\n",
    "4. Recall & precision for feasible/infeasible\n",
    "5. AUC of ROC\n",
    "\n",
    "This can be seen in table or graph form.\n",
    "\n",
    ".prin_essentials()\n",
    "\n",
    "![print_essentials example](code/misc/print_essentials_example.png)\n",
    "\n",
    ".plot_graphs() _here only one graph is included_\n",
    "\n",
    "![plot_graphs example](code/misc/graph_example.png)\n",
    "\n",
    "## Hyperparameter tuning\n",
    "\n",
    "Hyperparameter tuning is done with the method .hyperparameter_tuning().\n",
    "\n",
    "It takes lists of values for the parameters to be tested and performs and grid search using the method .training_loop(). The default is again 8 iterations of training data, 2 iterations of test data and training the model 10 times.\n",
    "\n",
    "The hyperparameter-combinations are then rated with either _balanced accuracy_ or _AUC_. The results are presented in a table with the 10 best candidates.\n",
    "\n",
    "![tuning example](code/misc/tuning_example.png)\n",
    "\n"
   ]
  }
 ],
 "metadata": {
  "kernelspec": {
   "display_name": "Python 3",
   "language": "python",
   "name": "python3"
  },
  "language_info": {
   "codemirror_mode": {
    "name": "ipython",
    "version": 3
   },
   "file_extension": ".py",
   "mimetype": "text/x-python",
   "name": "python",
   "nbconvert_exporter": "python",
   "pygments_lexer": "ipython3",
   "version": "3.8.5"
  }
 },
 "nbformat": 4,
 "nbformat_minor": 2
}
